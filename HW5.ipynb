{
 "cells": [
  {
   "cell_type": "markdown",
   "id": "5bbb5c81",
   "metadata": {},
   "source": [
    "__Задача 1__\n",
    "\n",
    "Известно, что генеральная совокупность распределена нормально с известным средним \n",
    "квадратическим отклонением 16. Найти ширину доверительного интервала для оценки \n",
    "математического ожидания `mu` с надёжностью 0.95, если выборочное среднее равно 80,\n",
    " а объём выборки равен 256."
   ]
  },
  {
   "cell_type": "code",
   "execution_count": 1,
   "id": "636b7067",
   "metadata": {},
   "outputs": [],
   "source": [
    "from scipy import stats"
   ]
  },
  {
   "cell_type": "code",
   "execution_count": 7,
   "id": "0d8c849a",
   "metadata": {},
   "outputs": [],
   "source": [
    "import numpy as np"
   ]
  },
  {
   "cell_type": "code",
   "execution_count": 17,
   "id": "f26319da",
   "metadata": {},
   "outputs": [],
   "source": [
    "std, mean, n =16,80,256\n",
    "p=0.95\n",
    "alpha=1-p"
   ]
  },
  {
   "cell_type": "code",
   "execution_count": 18,
   "id": "2fca3a01",
   "metadata": {},
   "outputs": [
    {
     "data": {
      "text/plain": [
       "(-1.959963984540054, 1.959963984540054)"
      ]
     },
     "execution_count": 18,
     "metadata": {},
     "output_type": "execute_result"
    }
   ],
   "source": [
    "t1 = stats.norm.ppf(alpha / 2)\n",
    "t2 = stats.norm.ppf(1 - alpha / 2)\n",
    "t1, t2"
   ]
  },
  {
   "cell_type": "code",
   "execution_count": 21,
   "id": "aa3be329",
   "metadata": {},
   "outputs": [
    {
     "name": "stdout",
     "output_type": "stream",
     "text": [
      "L=78.04003601545995 U=81.95996398454005\n",
      "U-L=3.91992797\n"
     ]
    }
   ],
   "source": [
    "L=mean + t1 * std / np.sqrt(n)\n",
    "U=mean + t2 * std / np.sqrt(n)\n",
    "print('L='+str(L)+' U='+str(U))\n",
    "print('U-L='+str(round(U-L,8)))"
   ]
  },
  {
   "cell_type": "markdown",
   "id": "154cd90b",
   "metadata": {},
   "source": [
    "__Задача 2__\n",
    "\n",
    "Продавец утверждает, что средний вес пачки печенья составляет 200 г. Из партии извлечена \n",
    "выборка из 10 пачек. Вес каждой пачки составляет:\n",
    "```\n",
    "202, 203, 199, 197, 195, 201, 200, 204, 194, 190\n",
    "```\n",
    "Известно, что их веса распределены нормально. Верно ли утверждение продавца, если учитывать,\n",
    " что уровень значимости равен 1%? Найдите P-значение для данного теста и укажите его в качестве ответа."
   ]
  },
  {
   "cell_type": "markdown",
   "id": "a8617a8e",
   "metadata": {},
   "source": [
    "гипотеза Н0=средний вес пачки печенья составляет 300 гр"
   ]
  },
  {
   "cell_type": "code",
   "execution_count": 25,
   "id": "8f2096af",
   "metadata": {},
   "outputs": [],
   "source": [
    "samples = np.array([202, 203, 199, 197, 195, 201, 200, 204, 194, 190])"
   ]
  },
  {
   "cell_type": "code",
   "execution_count": 38,
   "id": "19823bcd",
   "metadata": {},
   "outputs": [],
   "source": [
    "alpha=0.01\n",
    "n = samples.shape[0]"
   ]
  },
  {
   "cell_type": "code",
   "execution_count": 39,
   "id": "01b1879d",
   "metadata": {},
   "outputs": [],
   "source": [
    "def statistic(samples: np.ndarray) -> float:\n",
    "    return (samples.mean()-200) / (samples.std(ddof=1) / np.sqrt(n))"
   ]
  },
  {
   "cell_type": "code",
   "execution_count": 43,
   "id": "dc8d3320",
   "metadata": {},
   "outputs": [
    {
     "data": {
      "text/plain": [
       "-1.0651074037450896"
      ]
     },
     "execution_count": 43,
     "metadata": {},
     "output_type": "execute_result"
    }
   ],
   "source": [
    "S = statistic(samples)\n",
    "S"
   ]
  },
  {
   "cell_type": "code",
   "execution_count": 44,
   "id": "08cec370",
   "metadata": {},
   "outputs": [
    {
     "name": "stdout",
     "output_type": "stream",
     "text": [
      "Р-значение=0.3145666\n"
     ]
    }
   ],
   "source": [
    "p_left = stats.t.cdf(S, df=n - 1)\n",
    "p_right = 1 - stats.t.cdf(S, df=n - 1)\n",
    "pvalue = 2 * min(p_left, p_right)\n",
    "\n",
    "print('Р-значение='+str(round(pvalue,8)))"
   ]
  },
  {
   "cell_type": "markdown",
   "id": "7a749a54",
   "metadata": {},
   "source": [
    "__Задача 3__\n",
    "\n",
    "Дана выборка диаметров подшипников из примера 1 с занятия 5:\n",
    "```\n",
    "samples = [0.6603, 0.9466, 0.5968, 1.3792, 1.5481, 0.7515, 1.0681, 1.1134,\n",
    "           1.2088, 1.701 , 1.0282, 1.3579, 1.0191, 1.1784, 1.1168, 1.1372,\n",
    "           0.7273, 1.3958, 0.8665, 1.5112, 1.161 , 1.0232, 1.0865, 1.02  ]\n",
    "```\n",
    "Предполагая, что диаметры подшипников распределены нормально, проверьте гипотезу о том, \n",
    "что дисперсия случайной величины равна `0.0625` при уровне значимости `alpha = 0.05`. \n",
    "Что для этого нужно знать:\n",
    "1. Альтернативная гипотеза двухсторонняя.\n",
    "2. Статистика для теста: `H = (n - 1) * sample_variance / variance`, где `n` - число \n",
    "элементов в выборке, `sample_variance` - несмещённая оценка дисперсии, `variance` - \n",
    "утверждаемая нулевой гипотезой дисперсия.\n",
    "3. Эта статистика в предположении верности нулевой гипотезы имеет распределение хи-квадрат\n",
    " с параметром `df = n - 1`. Её квантили можно найти с помощью функции `scipy.stats.chi2.ppf`.\n",
    "\n",
    "В качестве ответа запишите 1, если нулевая гипотеза верна, и 0 иначе."
   ]
  },
  {
   "cell_type": "code",
   "execution_count": 45,
   "id": "1c856063",
   "metadata": {},
   "outputs": [],
   "source": [
    "samples = np.array([0.6603, 0.9466, 0.5968, 1.3792, 1.5481, 0.7515, 1.0681, 1.1134,\n",
    "           1.2088, 1.701 , 1.0282, 1.3579, 1.0191, 1.1784, 1.1168, 1.1372,\n",
    "           0.7273, 1.3958, 0.8665, 1.5112, 1.161 , 1.0232, 1.0865, 1.02])"
   ]
  },
  {
   "cell_type": "code",
   "execution_count": 48,
   "id": "da4704d3",
   "metadata": {},
   "outputs": [],
   "source": [
    "variance=0.0625\n",
    "alpha=0.05\n",
    "n = samples.shape[0]"
   ]
  },
  {
   "cell_type": "code",
   "execution_count": 50,
   "id": "3a406cbe",
   "metadata": {},
   "outputs": [
    {
     "data": {
      "text/plain": [
       "0.07804495041666668"
      ]
     },
     "execution_count": 50,
     "metadata": {},
     "output_type": "execute_result"
    }
   ],
   "source": [
    "sample_variance=(1/(n-1))*(pow(samples-samples.mean(),2)).sum()\n",
    "sample_variance"
   ]
  },
  {
   "cell_type": "code",
   "execution_count": 51,
   "id": "dd324159",
   "metadata": {},
   "outputs": [],
   "source": [
    "def statistic_3(samples: np.ndarray) -> float:\n",
    "    return ((n - 1) * sample_variance / variance)"
   ]
  },
  {
   "cell_type": "code",
   "execution_count": 56,
   "id": "dce55ac6",
   "metadata": {},
   "outputs": [
    {
     "data": {
      "text/plain": [
       "(11.688551922452438, 38.0756272503558)"
      ]
     },
     "execution_count": 56,
     "metadata": {},
     "output_type": "execute_result"
    }
   ],
   "source": [
    "t1 = stats.chi2.ppf(alpha/2, df=n-1)\n",
    "t2 = stats.chi2.ppf(1 - alpha / 2, df=n-1)\n",
    "t1, t2"
   ]
  },
  {
   "cell_type": "markdown",
   "id": "9ba4485d",
   "metadata": {},
   "source": [
    "критическая область:\n",
    "Ω𝛼=(−∞,11.688)∪(38.0756,∞)"
   ]
  },
  {
   "cell_type": "code",
   "execution_count": 57,
   "id": "098b57ce",
   "metadata": {},
   "outputs": [
    {
     "data": {
      "text/plain": [
       "28.720541753333336"
      ]
     },
     "execution_count": 57,
     "metadata": {},
     "output_type": "execute_result"
    }
   ],
   "source": [
    "S=statistic_3(samples)\n",
    "S"
   ]
  },
  {
   "cell_type": "code",
   "execution_count": null,
   "id": "3113346a",
   "metadata": {},
   "outputs": [],
   "source": []
  },
  {
   "cell_type": "code",
   "execution_count": null,
   "id": "8136c4fb",
   "metadata": {},
   "outputs": [],
   "source": [
    "Значение статистики не попало в критическую область, значит, гипотеза верна.\n",
    "Ответ:1"
   ]
  }
 ],
 "metadata": {
  "kernelspec": {
   "display_name": "Python 3",
   "language": "python",
   "name": "python3"
  },
  "language_info": {
   "codemirror_mode": {
    "name": "ipython",
    "version": 3
   },
   "file_extension": ".py",
   "mimetype": "text/x-python",
   "name": "python",
   "nbconvert_exporter": "python",
   "pygments_lexer": "ipython3",
   "version": "3.8.8"
  }
 },
 "nbformat": 4,
 "nbformat_minor": 5
}
