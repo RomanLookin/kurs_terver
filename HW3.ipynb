{
 "cells": [
  {
   "cell_type": "markdown",
   "id": "971a33c1",
   "metadata": {},
   "source": [
    "Урок 3"
   ]
  },
  {
   "cell_type": "code",
   "execution_count": 19,
   "id": "64a359bd",
   "metadata": {},
   "outputs": [],
   "source": [
    "import matplotlib.pyplot as plt"
   ]
  },
  {
   "cell_type": "markdown",
   "id": "9a2b7d7f",
   "metadata": {},
   "source": [
    "Задача 1\n",
    "\n",
    "Даны значения зарплат из выборки выпускников: \n",
    "```\n",
    "100, 80, 75, 77, 89, 33, 45, 25, 65, 17, 30, 230, 24, 57, 55, 70, 75, 65, 84, 90, 150\n",
    "```\n",
    "Используя только встроенные питоновские функции и структуры данных (т.е. без библиотек `numpy`, `pandas` и др.), посчитайте (несмещённое) среднее квадратичное отклонение для данной выборки."
   ]
  },
  {
   "cell_type": "code",
   "execution_count": 1,
   "id": "de503d73",
   "metadata": {},
   "outputs": [],
   "source": [
    "vib=[100, 80, 75, 77, 89, 33, 45, 25, 65, 17, 30, 230, 24, 57, 55, 70, 75, 65, 84, 90, 150]"
   ]
  },
  {
   "cell_type": "markdown",
   "id": "ccab4ec9",
   "metadata": {},
   "source": [
    "находим среднее арифметическое"
   ]
  },
  {
   "cell_type": "code",
   "execution_count": 6,
   "id": "54bb4cf7",
   "metadata": {},
   "outputs": [
    {
     "data": {
      "text/plain": [
       "73.14285714285714"
      ]
     },
     "execution_count": 6,
     "metadata": {},
     "output_type": "execute_result"
    }
   ],
   "source": [
    "sumX=0\n",
    "n=0\n",
    "for k in range(len(vib)):\n",
    "    sumX+=vib[k]\n",
    "    n+=1\n",
    "vib_mean_X=sumX/n\n",
    "vib_mean_X"
   ]
  },
  {
   "cell_type": "markdown",
   "id": "857ff3d8",
   "metadata": {},
   "source": [
    "находим СКО"
   ]
  },
  {
   "cell_type": "code",
   "execution_count": 15,
   "id": "07db004b",
   "metadata": {},
   "outputs": [
    {
     "data": {
      "text/plain": [
       "47.34795213553139"
      ]
     },
     "execution_count": 15,
     "metadata": {},
     "output_type": "execute_result"
    }
   ],
   "source": [
    "sumX=0\n",
    "for k in range(len(vib)):\n",
    "    sumX+=(vib[k]-vib_mean_X)*(vib[k]-vib_mean_X)\n",
    "sko=(1/(n-1)*sumX)**0.5\n",
    "sko"
   ]
  },
  {
   "cell_type": "code",
   "execution_count": 37,
   "id": "f5646002",
   "metadata": {},
   "outputs": [
    {
     "data": {
      "text/plain": [
       "<matplotlib.lines.Line2D at 0xce93d8ee80>"
      ]
     },
     "execution_count": 37,
     "metadata": {},
     "output_type": "execute_result"
    },
    {
     "data": {
      "image/png": "[encoded data removed]",
      "text/plain": [
       "<Figure size 1080x360 with 1 Axes>"
      ]
     },
     "metadata": {
      "needs_background": "light"
     },
     "output_type": "display_data"
    }
   ],
   "source": [
    "fig=plt.figure(figsize=(15, 5)) #\n",
    "plt.scatter(range(len(vib)),vib)\n",
    "plt.grid(True)\n",
    "plt.axhline(y=vib_mean_X,color='k', linestyle='--')"
   ]
  },
  {
   "cell_type": "markdown",
   "id": "38f848f7",
   "metadata": {},
   "source": [
    "__Задача 2__\n",
    "\n",
    "Найдите число выбросов в выборке из задачи 1. Для определения выбросов используйте методику \n",
    "как при построении \"усов\" в `boxplot`, однако, как и в задаче 1, пользоваться можно только \n",
    "встроенными функциями и структурами данных."
   ]
  },
  {
   "cell_type": "markdown",
   "id": "d21750ad",
   "metadata": {},
   "source": [
    "отсортируем список по возрастанию"
   ]
  },
  {
   "cell_type": "code",
   "execution_count": 36,
   "id": "a59ff31f",
   "metadata": {},
   "outputs": [
    {
     "name": "stdout",
     "output_type": "stream",
     "text": [
      "[17, 24, 25, 30, 33, 45, 55, 57, 65, 65, 70, 75, 75, 77, 80, 84, 89, 90, 100, 150, 230]\n"
     ]
    }
   ],
   "source": [
    "vib.sort()\n",
    "print(vib)"
   ]
  },
  {
   "cell_type": "markdown",
   "id": "a8bdb746",
   "metadata": {},
   "source": [
    "считае квантили"
   ]
  },
  {
   "cell_type": "code",
   "execution_count": 38,
   "id": "4bd2e540",
   "metadata": {},
   "outputs": [
    {
     "data": {
      "text/plain": [
       "1"
      ]
     },
     "execution_count": 38,
     "metadata": {},
     "output_type": "execute_result"
    }
   ],
   "source": [
    "len(vib) % 4"
   ]
  },
  {
   "cell_type": "code",
   "execution_count": 44,
   "id": "ac71a416",
   "metadata": {},
   "outputs": [
    {
     "name": "stdout",
     "output_type": "stream",
     "text": [
      "q1=45 q3=84\n"
     ]
    }
   ],
   "source": [
    "q1 = vib[len(vib) // 4]\n",
    "q3 = vib[3 * len(vib) // 4]\n",
    "print('q1='+str(q1)+' q3='+str(q3))"
   ]
  },
  {
   "cell_type": "code",
   "execution_count": 46,
   "id": "d0644d51",
   "metadata": {},
   "outputs": [
    {
     "name": "stdout",
     "output_type": "stream",
     "text": [
      "IQR=39\n"
     ]
    }
   ],
   "source": [
    "IQR=q3-q1\n",
    "print('IQR='+str(IQR))"
   ]
  },
  {
   "cell_type": "code",
   "execution_count": 49,
   "id": "bab5be42",
   "metadata": {},
   "outputs": [],
   "source": [
    "vibrosy=[l for l in vib if (l>q3+1.5*IQR)&(l>q1-1.5*IQR)]"
   ]
  },
  {
   "cell_type": "code",
   "execution_count": 53,
   "id": "dd550422",
   "metadata": {},
   "outputs": [
    {
     "name": "stdout",
     "output_type": "stream",
     "text": [
      "выбросы=[150, 230], 2 значения\n"
     ]
    }
   ],
   "source": [
    "print('выбросы='+str(vibrosy)+', '+str(len(vibrosy))+' значения')"
   ]
  },
  {
   "cell_type": "code",
   "execution_count": null,
   "id": "f9e94a12",
   "metadata": {},
   "outputs": [],
   "source": []
  },
  {
   "cell_type": "markdown",
   "id": "0c2d7eb2",
   "metadata": {},
   "source": [
    "__Задача 3__\n",
    "\n",
    "В университет на факультет A поступило 100 человек, на факультет B - 90 человек и на \n",
    "факультет C - 45 человек. Вероятность того, что студент с факультета A сдаст первую \n",
    "сессию, равна 0.6. Для студента с факультета B эта вероятность равна 0.7, а для студента \n",
    "с факультета C - 0.8. Случайным образом выбирается студент, сдавший первую сессию. Какое\n",
    "событие наиболее вероятно:\n",
    "1. студент учится на факультете A,\n",
    "2. студент учится на факультете B,\n",
    "3. студент учится на факультете C?\n",
    "\n",
    "_Замечание_: да, эта задача не на тему статистики, но тема важная, и её стоит иногда \n",
    "освежать в памяти."
   ]
  },
  {
   "cell_type": "code",
   "execution_count": null,
   "id": "f255a9df",
   "metadata": {},
   "outputs": [],
   "source": [
    "С факультета А сдадут первую сессию 100*0,6=60 человек, с факультета В - \n",
    "90*0,7=63 человека, в факультета С - 45*0,8=36 человек.\n",
    "вероятность, что из сдавших сессию студент из факультета А:\n",
    "Р=60/(60+63+36)=0,37735\n",
    "вероятность, что из сдавших сессию студент с факультета В:\n",
    "Р=63/(60+63+36)=0,39622\n",
    "вероятность, что из сдавших сессию студент с факультета С:\n",
    "Р=36/(60+63+36)=0,226\n",
    "Ответ: наиболее вероятно, что студент учится на факультете В"
   ]
  },
  {
   "cell_type": "code",
   "execution_count": null,
   "id": "c7981229",
   "metadata": {},
   "outputs": [],
   "source": []
  }
 ],
 "metadata": {
  "kernelspec": {
   "display_name": "Python 3",
   "language": "python",
   "name": "python3"
  },
  "language_info": {
   "codemirror_mode": {
    "name": "ipython",
    "version": 3
   },
   "file_extension": ".py",
   "mimetype": "text/x-python",
   "name": "python",
   "nbconvert_exporter": "python",
   "pygments_lexer": "ipython3",
   "version": "3.8.8"
  }
 },
 "nbformat": 4,
 "nbformat_minor": 5
}
